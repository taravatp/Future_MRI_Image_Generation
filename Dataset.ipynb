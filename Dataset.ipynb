{
  "nbformat": 4,
  "nbformat_minor": 0,
  "metadata": {
    "colab": {
      "name": "Dataset.ipynb",
      "provenance": [],
      "mount_file_id": "1Qa3Y07VhZNitOEm1bCStHadZDqdBiBz7",
      "authorship_tag": "ABX9TyNwvmoFCA+yTojajpXlH76N",
      "include_colab_link": true
    },
    "kernelspec": {
      "name": "python3",
      "display_name": "Python 3"
    },
    "language_info": {
      "name": "python"
    }
  },
  "cells": [
    {
      "cell_type": "markdown",
      "metadata": {
        "id": "view-in-github",
        "colab_type": "text"
      },
      "source": [
        "<a href=\"https://colab.research.google.com/github/taravatp/Future_MRI_Image_Generation/blob/main/Dataset.ipynb\" target=\"_parent\"><img src=\"https://colab.research.google.com/assets/colab-badge.svg\" alt=\"Open In Colab\"/></a>"
      ]
    },
    {
      "cell_type": "code",
      "execution_count": null,
      "metadata": {
        "id": "WI7AKnSu0Blp"
      },
      "outputs": [],
      "source": [
        "import torch\n",
        "from torch.utils.data import Dataset\n",
        "\n",
        "import numpy as np\n",
        "import cv2\n",
        "import os\n",
        "import matplotlib.pyplot as plt"
      ]
    },
    {
      "cell_type": "code",
      "source": [
        "class ADNI(Dataset):\n",
        "  def __init__(self):\n",
        "    super(ADNI,self).__init__()\n",
        "    self.dataset = self.get_image_paths(root_path='/content/drive/MyDrive/Master_thesis/dataset/ADNI0') + self.get_image_paths(root_path='/content/drive/MyDrive/Master_thesis/dataset/ADNI1')\n",
        "    self.patient_level_dataset = self.extract_patient_level_data(self.dataset)\n",
        "    # self.image_pairs = self.\n",
        "  def get_image_paths(self,root_path):\n",
        "    file_paths = []\n",
        "    for root, d_names, f_names in os.walk(root_path,topdown=True):\n",
        "      for file_name in f_names:\n",
        "        file_paths.append(os.path.join(root,file_name))\n",
        "    return file_paths\n",
        "\n",
        "  def extract_patient_level_data(self,file_paths):\n",
        "    patient_level_data = {}\n",
        "    #key = patientID+long or patiendID+cross\n",
        "    #value: paths of images associated with the patiendID\n",
        "\n",
        "    for fpath in file_paths:\n",
        "      splited_path = fpath.split('/')\n",
        "      dict_id = splited_path[7] + splited_path[8] # patiend_id + image_type\n",
        "      if dict_id in patient_level_data.keys():\n",
        "        patient_level_data[dict_id].append(fpath)\n",
        "      else:\n",
        "        patient_level_data[dict_id] = []\n",
        "        patient_level_data[dict_id].append(fpath)\n",
        "    return patient_level_data\n",
        "\n",
        "\n",
        "  def __len__(self):\n",
        "    pass\n",
        "  \n",
        "  def __getitem__(self):\n",
        "    pass"
      ],
      "metadata": {
        "id": "6-WCtWjP0Oo9"
      },
      "execution_count": null,
      "outputs": []
    },
    {
      "cell_type": "code",
      "source": [
        "sample = ADNI()"
      ],
      "metadata": {
        "id": "DEPQeH9Q0yKa"
      },
      "execution_count": null,
      "outputs": []
    }
  ]
}